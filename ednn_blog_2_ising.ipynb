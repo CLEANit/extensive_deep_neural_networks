{
 "cells": [
  {
   "cell_type": "code",
   "execution_count": 1,
   "metadata": {
    "collapsed": true
   },
   "outputs": [],
   "source": [
    "#First, some imports\n",
    "import tensorflow as tf\n",
    "import numpy as np\n",
    "import matplotlib.pyplot as plt\n",
    "import progressbar\n",
    "import h5py\n",
    "%matplotlib inline"
   ]
  },
  {
   "cell_type": "code",
   "execution_count": 2,
   "metadata": {
    "collapsed": true
   },
   "outputs": [],
   "source": [
    "def get_data(N):\n",
    "    assert N<=25000, \"N must be less than 25000\"\n",
    "    with h5py.File(\"./data/ising_data.h5\",'r') as F:\n",
    "        data = F['data'][:N, ...,0]*1.0\n",
    "        label = F['energy'][:N, ...]*1.0\n",
    "    return data, label"
   ]
  },
  {
   "cell_type": "code",
   "execution_count": 3,
   "metadata": {},
   "outputs": [
    {
     "data": {
      "image/png": "[encoded data removed]",
      "text/plain": [
       "<matplotlib.figure.Figure at 0x7f5d91de4e10>"
      ]
     },
     "metadata": {},
     "output_type": "display_data"
    }
   ],
   "source": [
    "data, labels =  get_data(25)\n",
    "fig, axs = plt.subplots(5,5,figsize=(10,10))\n",
    "for i in range(5):\n",
    "    for j in range(5):\n",
    "        axs[i][j].imshow(data[5*i+j,:,:], cmap='gray')\n",
    "        axs[i][j].set_title('{0}'.format(labels[5*i+j][0]))\n",
    "        axs[i][j].axis(\"off\")"
   ]
  },
  {
   "cell_type": "code",
   "execution_count": 4,
   "metadata": {
    "collapsed": true
   },
   "outputs": [],
   "source": [
    "L = 8\n",
    "f = 4\n",
    "c = 1"
   ]
  },
  {
   "cell_type": "code",
   "execution_count": 5,
   "metadata": {
    "collapsed": true
   },
   "outputs": [],
   "source": [
    "# %load ednn.py\n",
    "class EDNN_helper(object):\n",
    "    \n",
    "    def __init__(self, L, f, c):\n",
    "        assert f <= L/2, \"Focus must be less than half the image size to use this implementation.\"\n",
    "        assert (f + 2*c) <= L, \"Total tile size (f+2c) is larger than input image.\"\n",
    "        self.l = L\n",
    "        self.f = f\n",
    "        self.c = c\n",
    "    \n",
    "    def __roll(self, in_, num, axis):\n",
    "        \"\"\"author: Kyle Mills\"\"\"\n",
    "        D = tf.transpose(in_, perm=[axis, 1-axis])  #if axis=1, transpose first\n",
    "        D = tf.concat([D[num:, :], D[0:num, :]], axis=0)\n",
    "        return tf.transpose(D, perm=[axis, 1-axis]) #if axis=1, transpose back\n",
    "\n",
    "    def __slice(self, in_, x1, y1, w, h): \n",
    "        \"\"\"author: Kyle Mills\"\"\"\n",
    "        return in_[x1:x1+w, y1:y1+h]\n",
    "\n",
    "    def ednn_split(self, in_): \n",
    "        \"\"\"author: Kyle Mills\"\"\"\n",
    "        l = self.l\n",
    "        f = self.f\n",
    "        c = self.c\n",
    "\n",
    "        tiles = []\n",
    "        for iTile in range(l/f):\n",
    "            for jTile in range(l/f):\n",
    "                #calculate the indices of the centre of this tile (i.e. the centre of the focus region)\n",
    "                cot = (iTile*f + f/2, jTile*f + f/2) #centre of tile\n",
    "                foc_centered = in_ \n",
    "                #shift the picture, wrapping the image around,\n",
    "                #so that the focus is centered in the middle of the image\n",
    "                foc_centered = self.__roll(foc_centered, l/2-cot[0], 0)\n",
    "                foc_centered = self.__roll(foc_centered, l/2-cot[1], 1)\n",
    "                #Finally slice away the excess image that we don't want to appear in this tile\n",
    "                final = self.__slice(foc_centered, l/2-f/2-c, l/2-f/2-c, 2*c+f, 2*c+f)\n",
    "                tiles.append(final)\n",
    "\n",
    "        return tf.expand_dims(tiles, axis=3)"
   ]
  },
  {
   "cell_type": "code",
   "execution_count": 6,
   "metadata": {
    "collapsed": true
   },
   "outputs": [],
   "source": [
    "def NN(_in):\n",
    "    tile_size = f + 2*c\n",
    "    _in = tf.reshape(_in, (-1, tile_size**2))\n",
    "    nn = tf.contrib.layers.fully_connected(_in, 32)\n",
    "    nn = tf.contrib.layers.fully_connected(nn, 1, activation_fn=None)\n",
    "    return nn"
   ]
  },
  {
   "cell_type": "code",
   "execution_count": 7,
   "metadata": {
    "collapsed": true
   },
   "outputs": [],
   "source": [
    "tf.reset_default_graph()\n",
    "#data comes in a [ batch * L * L ] tensor, and labels a [ batch * 1] tensor\n",
    "x = tf.placeholder(tf.float32, (None, L, L), name='input_image')\n",
    "y = tf.placeholder(tf.float32, (None, 1))\n",
    "\n",
    "helper = EDNN_helper(L=L, f=f, c=c)\n",
    "\n",
    "#Then the EDNN-specific code:\n",
    "tiles = tf.map_fn(helper.ednn_split, x, back_prop=False)\n",
    "tiles = tf.transpose(tiles, perm=[1,0,2,3,4])\n",
    "output = tf.map_fn(NN, tiles, back_prop=True)\n",
    "output = tf.transpose(output, perm=[1,0,2])\n",
    "predicted = tf.reduce_sum(output, axis=1)\n",
    "\n",
    "\n",
    "#define the loss function\n",
    "loss = tf.reduce_mean(tf.square(y-predicted))\n",
    "\n",
    "#create an optimizer, a training op, and an init op\n",
    "optimizer = tf.train.AdamOptimizer(learning_rate=0.01)\n",
    "train_step = optimizer.minimize(loss)\n",
    "init = tf.global_variables_initializer()"
   ]
  },
  {
   "cell_type": "code",
   "execution_count": 8,
   "metadata": {
    "collapsed": true
   },
   "outputs": [],
   "source": [
    "data, labels = get_data(2500)\n",
    "train_data = data[:2000]\n",
    "test_data = data[2000:]\n",
    "train_labels = labels[:2000]\n",
    "test_labels = labels[2000:]"
   ]
  },
  {
   "cell_type": "code",
   "execution_count": 9,
   "metadata": {
    "collapsed": true
   },
   "outputs": [],
   "source": [
    "sess = tf.InteractiveSession()\n",
    "sess.run(init)"
   ]
  },
  {
   "cell_type": "code",
   "execution_count": 10,
   "metadata": {},
   "outputs": [
    {
     "name": "stderr",
     "output_type": "stream",
     "text": [
      "100% (332 of 332) |#######################| Elapsed Time: 0:01:51 Time: 0:01:51\n"
     ]
    }
   ],
   "source": [
    "BATCH_SIZE = 500\n",
    "\n",
    "bar = progressbar.ProgressBar()\n",
    "for epoch in bar(range(500-168)):\n",
    "    for batch in xrange(train_data.shape[0] / BATCH_SIZE):\n",
    "        _, loss_val = sess.run([train_step, loss],\n",
    "                               feed_dict={\n",
    "                                    x: train_data[batch*BATCH_SIZE:(batch+1)*BATCH_SIZE],\n",
    "                                    y: train_labels[batch*BATCH_SIZE:(batch+1)*BATCH_SIZE]\n",
    "                                }\n",
    "                              )\n"
   ]
  },
  {
   "cell_type": "code",
   "execution_count": 11,
   "metadata": {},
   "outputs": [
    {
     "data": {
      "image/png": "[encoded data removed]",
      "text/plain": [
       "<matplotlib.figure.Figure at 0x7f5d82695910>"
      ]
     },
     "metadata": {},
     "output_type": "display_data"
    },
    {
     "name": "stdout",
     "output_type": "stream",
     "text": [
      "The median absolute error is 1.65842437744\n"
     ]
    }
   ],
   "source": [
    "prediction = sess.run(predicted, feed_dict={x: test_data})\n",
    "\n",
    "fig, ax = plt.subplots(1,1, figsize=(8,8))\n",
    "ax.plot(test_labels.flatten(), prediction.flatten(), '.', color='#821122')\n",
    "ax.plot(np.arange(-128,128), np.arange(-128,128), '--', color='gray')\n",
    "ax.set_xlabel(\"True energy\")\n",
    "ax.set_ylabel(\"Predicted energy\")\n",
    "ax.grid(alpha=0.3)\n",
    "plt.show()\n",
    "print \"The median absolute error is\", np.median(np.abs(test_labels-prediction))"
   ]
  },
  {
   "cell_type": "markdown",
   "metadata": {},
   "source": [
    "Train for another 500 epochs with more examples, to get better accuracy for future use (about 30 minutes to run on GPU)"
   ]
  },
  {
   "cell_type": "code",
   "execution_count": 12,
   "metadata": {
    "collapsed": true
   },
   "outputs": [],
   "source": [
    "if False: #comment out this line if you want it to run\n",
    "    data, labels = get_data(25000)\n",
    "    train_data = data[:20000]\n",
    "    test_data = data[20000:]\n",
    "    train_labels = labels[:20000]\n",
    "    test_labels = labels[20000:]\n",
    "\n",
    "\n",
    "\n",
    "    BATCH_SIZE = 500\n",
    "\n",
    "    bar = progressbar.ProgressBar()\n",
    "    for epoch in bar(range(500)):\n",
    "        for batch in xrange(train_data.shape[0] / BATCH_SIZE):\n",
    "            _, loss_val = sess.run([train_step, loss],\n",
    "                                   feed_dict={\n",
    "                                        x: train_data[batch*BATCH_SIZE:(batch+1)*BATCH_SIZE],\n",
    "                                        y: train_labels[batch*BATCH_SIZE:(batch+1)*BATCH_SIZE]\n",
    "                                    }\n",
    "                                  )\n",
    "    saver = tf.train.Saver()\n",
    "    saver.save(sess, \"./checkpoints/ednn_2_Ising/model_trained_more\")\n",
    "\n",
    "    prediction = sess.run(predicted, feed_dict={x: test_data})\n",
    "\n",
    "    fig, ax = plt.subplots(1,1, figsize=(8,8))\n",
    "    ax.plot(test_labels.flatten(), prediction.flatten(), '.', color='#821122')\n",
    "    ax.plot(np.arange(-128,128), np.arange(-128,128), '--', color='gray')\n",
    "    ax.set_xlabel(\"True energy\")\n",
    "    ax.set_ylabel(\"Predicted energy\")\n",
    "    ax.grid(alpha=0.3)\n",
    "    plt.show()\n",
    "    print \"The median absolute error is\", np.median(np.abs(test_labels-prediction))\n",
    "\n"
   ]
  }
 ],
 "metadata": {
  "anaconda-cloud": {},
  "kernelspec": {
   "display_name": "Python 2",
   "language": "python",
   "name": "python2"
  },
  "language_info": {
   "codemirror_mode": {
    "name": "ipython",
    "version": 2
   },
   "file_extension": ".py",
   "mimetype": "text/x-python",
   "name": "python",
   "nbconvert_exporter": "python",
   "pygments_lexer": "ipython2",
   "version": "2.7.14"
  }
 },
 "nbformat": 4,
 "nbformat_minor": 2
}
