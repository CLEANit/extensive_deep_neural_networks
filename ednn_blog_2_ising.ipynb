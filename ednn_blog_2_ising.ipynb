{
 "cells": [
  {
   "cell_type": "markdown",
   "metadata": {},
   "source": [
    "# Extensive deep neural network tutorial\n",
    "\n",
    "In this series we will build an Extensive Deep Neural Network (EDNN) capable of predicting extensive physical properties on two-dimensional images.  We will demonstrate how to use the trained model to achieve $\\mathcal{O}(N)$ scaling with respect to the image size.\n",
    "\n",
    "This technique was first introduced in \"Extensive Deep Neural Networks\" by I. Luchak, K. Mills, K. Ryczko, et. al.\n",
    "(https://arxiv.org/abs/1708.06686)\n",
    "\n"
   ]
  },
  {
   "cell_type": "markdown",
   "metadata": {},
   "source": [
    "## 1) The Ising model of magnetization\n",
    "\n",
    "In this post we'll step up our game a bit and move on to a more challenging problem: the Ising model of magnetization.  This will allow us to demonstrate the importance of context, and the ability of an extensive deep neural network to make predictions on images larger than that on which it was trained.\n",
    "\n",
    "First, a brief overview: The Ising model defined on an infinite domain (i.e. periodic boundary conditions) is an example of a simple physical model of magnetization.  All we need to know for this tutorial is that there are up and down spins, and when two neighbouring are pointing in the same direction, it's good. When they're pointing opposite one another, that's bad.  In physics, \"good\" means a low energy, and \"bad\" means a high energy. For more information about the Ising model and deep learning, you can check out my previous paper here https://arxiv.org/pdf/1706.09779.pdf, and the references listed therein.\n",
    "\n",
    "Now, we could just generate random Ising model configurations, but for reasons we've discussed in https://arxiv.org/pdf/1706.09779.pdf, the best bet is to use a physical simulation to sample evenly across energies. This has nothing to do with EDNNs, so to keep this relevant, we'll load the data from a file."
   ]
  },
  {
   "cell_type": "code",
   "execution_count": 1,
   "metadata": {
    "collapsed": false
   },
   "outputs": [
    {
     "name": "stderr",
     "output_type": "stream",
     "text": [
      "/home/kmills/anaconda2/lib/python2.7/site-packages/h5py/__init__.py:36: FutureWarning: Conversion of the second argument of issubdtype from `float` to `np.floating` is deprecated. In future, it will be treated as `np.float64 == np.dtype(float).type`.\n",
      "  from ._conv import register_converters as _register_converters\n"
     ]
    }
   ],
   "source": [
    "#First, some imports\n",
    "import tensorflow as tf\n",
    "import numpy as np\n",
    "import matplotlib.pyplot as plt\n",
    "import progressbar\n",
    "import h5py\n",
    "%matplotlib inline"
   ]
  },
  {
   "cell_type": "code",
   "execution_count": 3,
   "metadata": {
    "collapsed": false
   },
   "outputs": [],
   "source": [
    "def get_data(N):\n",
    "    assert N<=25000, \"N must be less than 25000\"\n",
    "    with h5py.File(\"./ising_data.h5\",'r') as F:\n",
    "        data = F['data'][:N, ...,0]*1.0\n",
    "        label = F['energy'][:N, ...]*1.0\n",
    "    return data, label"
   ]
  },
  {
   "cell_type": "markdown",
   "metadata": {},
   "source": [
    "Let us take a look at some of the training data.\n"
   ]
  },
  {
   "cell_type": "code",
   "execution_count": 5,
   "metadata": {
    "collapsed": false
   },
   "outputs": [
    {
     "data": {
      "image/png": "[encoded data removed]",
      "text/plain": [
       "<matplotlib.figure.Figure at 0x7fb8ae738f10>"
      ]
     },
     "metadata": {},
     "output_type": "display_data"
    }
   ],
   "source": [
    "data, labels =  get_data(25)\n",
    "\n",
    "fig, axs = plt.subplots(5,5,figsize=(10,10))\n",
    "\n",
    "for i in range(5):\n",
    "    for j in range(5):\n",
    "        axs[i][j].imshow(data[5*i+j,:,:], cmap='gray')\n",
    "        axs[i][j].set_title('{0}'.format(labels[5*i+j][0]))\n",
    "        axs[i][j].axis(\"off\")"
   ]
  },
  {
   "cell_type": "markdown",
   "metadata": {},
   "source": [
    "Notice that the images (which we will call \"configurations\") that have large regions of black or white (i.e. aligned spins) have much lower energies than those with checkerboard patterns."
   ]
  },
  {
   "cell_type": "markdown",
   "metadata": {},
   "source": [
    "Next we need to decide on the focus and context that we will use.  We know from the model that was used to calculate the labels, only nearest-neighbour interactions matter, therefore, $f=1, c=1$ is the best choice for the Ising model.\n",
    "\n",
    "Let's try this out first:"
   ]
  },
  {
   "cell_type": "code",
   "execution_count": 6,
   "metadata": {
    "collapsed": true
   },
   "outputs": [],
   "source": [
    "L = 8\n",
    "f = 1\n",
    "c = 1"
   ]
  },
  {
   "cell_type": "markdown",
   "metadata": {},
   "source": [
    "Next we'll define a few functions to help us.  These are identical to the previous tutorial."
   ]
  },
  {
   "cell_type": "code",
   "execution_count": 7,
   "metadata": {
    "collapsed": false
   },
   "outputs": [],
   "source": [
    "def roll(in_, num, axis):\n",
    "    \"\"\"author: Kyle Mills\"\"\"\n",
    "    D = tf.transpose(in_, perm=[axis, 1-axis])  #if axis=1, transpose first\n",
    "    D = tf.concat([D[num:, :], D[0:num, :]], axis=0)\n",
    "    return tf.transpose(D, perm=[axis, 1-axis]) #if axis=1, transpose back\n",
    "\n",
    "def slice_(in_, x1, y1, w, h): \n",
    "    \"\"\"author: Kyle Mills\"\"\"\n",
    "    return in_[x1:x1+w, y1:y1+h]\n",
    "\n",
    "def ednn_split(in_): \n",
    "    \"\"\"author: Kyle Mills\"\"\"\n",
    "    l = L\n",
    "    #alternatively, a (probably better) way to get l is to do:\n",
    "    #   l = in_.get_shape().as_list()[0]\n",
    "   \n",
    "    tiles = []\n",
    "    for iTile in range(l/f):\n",
    "        for jTile in range(l/f):\n",
    "            #calculate the indices of the centre of this tile (i.e. the centre of the focus region)\n",
    "            cot = (iTile*f + f/2, jTile*f + f/2) #centre of tile\n",
    "            foc_centered = in_ \n",
    "            #shift the picture, wrapping the image around,\n",
    "            #so that the focus is centered in the middle of the image\n",
    "            foc_centered = roll(foc_centered, l/2-cot[0], 0)\n",
    "            foc_centered = roll(foc_centered, l/2-cot[1], 1)\n",
    "            #Finally slice away the excess image that we don't want to appear in this tile\n",
    "            final = slice_(foc_centered, l/2-f/2-c, l/2-f/2-c, 2*c+f, 2*c+f)\n",
    "            tiles.append(final)\n",
    "            \n",
    "    return tf.expand_dims(tiles, axis=3)\n"
   ]
  },
  {
   "cell_type": "markdown",
   "metadata": {},
   "source": [
    "Next we will define the neural network.  Notice that this is done no differently than a normal neural network.  This time, because we're using a focus of 1 and a context of 1, the neural network is only receiving a $3\\times 3$ image. We'll use a very simple neural network:"
   ]
  },
  {
   "cell_type": "code",
   "execution_count": 8,
   "metadata": {
    "collapsed": true
   },
   "outputs": [],
   "source": [
    "def NN(_in):\n",
    "    tile_size = f + 2*c\n",
    "    _in = tf.reshape(_in, (-1, tile_size**2))\n",
    "    lay1 = tf.contrib.layers.fully_connected(_in, 64)\n",
    "    lay2 = tf.contrib.layers.fully_connected(lay1, 1, activation_fn=None)\n",
    "    return lay2"
   ]
  },
  {
   "cell_type": "markdown",
   "metadata": {},
   "source": [
    "Now we'll build the graph just as we did in the previous tutorial. This takes a long time; a consequence of using a small focus region is that we need many tiles to cover our whole image. "
   ]
  },
  {
   "cell_type": "code",
   "execution_count": 9,
   "metadata": {
    "collapsed": false
   },
   "outputs": [],
   "source": [
    "#data comes in a [ batch * L * L ] tensor, and labels a [ batch * 1] tensor\n",
    "x = tf.placeholder(tf.float32, (None, L, L), name='input_image')\n",
    "y = tf.placeholder(tf.float32, (None, 1))\n",
    "\n",
    "#Then the EDNN-specific code:\n",
    "tiles = tf.map_fn(ednn_split, x, back_prop=False)\n",
    "tiles = tf.transpose(tiles, perm=[1,0,2,3,4])\n",
    "output = tf.map_fn(NN, tiles, back_prop=True)\n",
    "output = tf.transpose(output, perm=[1,0,2])\n",
    "predicted = tf.reduce_sum(output, axis=1)\n",
    "\n",
    "\n",
    "#define the loss function\n",
    "loss = tf.reduce_mean(tf.square(y-predicted))\n",
    "\n",
    "#create an optimizer, a training op, and an init op\n",
    "optimizer = tf.train.AdamOptimizer(learning_rate=0.001)\n",
    "train_step = optimizer.minimize(loss)\n",
    "init = tf.global_variables_initializer()"
   ]
  },
  {
   "cell_type": "code",
   "execution_count": 10,
   "metadata": {
    "collapsed": false
   },
   "outputs": [],
   "source": [
    "sess = tf.InteractiveSession()\n",
    "sess.run(init)"
   ]
  },
  {
   "cell_type": "markdown",
   "metadata": {},
   "source": [
    "We will get 1000 data points, and split it into training and testing datasets with a 9/1 ratio:"
   ]
  },
  {
   "cell_type": "code",
   "execution_count": 11,
   "metadata": {
    "collapsed": false
   },
   "outputs": [],
   "source": [
    "data, labels = get_data(1000)\n",
    "train_data = data[:900]\n",
    "test_data = data[900:]\n",
    "train_labels = labels[:900]\n",
    "test_labels = labels[900:]"
   ]
  },
  {
   "cell_type": "code",
   "execution_count": 24,
   "metadata": {
    "collapsed": false
   },
   "outputs": [
    {
     "name": "stderr",
     "output_type": "stream",
     "text": [
      "100% (1000 of 1000) |#####################| Elapsed Time: 0:00:38 Time: 0:00:38\n"
     ]
    }
   ],
   "source": [
    "BATCH_SIZE = 100\n",
    "\n",
    "bar = progressbar.ProgressBar()\n",
    "for epoch in bar(range(1000)):\n",
    "    for batch in xrange(train_data.shape[0] / BATCH_SIZE):\n",
    "        _, loss_val = sess.run([train_step, loss],\n",
    "                               feed_dict={\n",
    "                                    x: train_data[batch*BATCH_SIZE:batch*(BATCH_SIZE+1)],\n",
    "                                    y: labels[batch*BATCH_SIZE:batch*(BATCH_SIZE+1)]\n",
    "                                }\n",
    "                              )\n"
   ]
  },
  {
   "cell_type": "code",
   "execution_count": 25,
   "metadata": {
    "collapsed": false
   },
   "outputs": [],
   "source": [
    "prediction = sess.run(predicted, feed_dict={x: test_data})"
   ]
  },
  {
   "cell_type": "code",
   "execution_count": 26,
   "metadata": {
    "collapsed": false
   },
   "outputs": [
    {
     "data": {
      "image/png": "[encoded data removed]",
      "text/plain": [
       "<matplotlib.figure.Figure at 0x7fb8af484250>"
      ]
     },
     "metadata": {},
     "output_type": "display_data"
    }
   ],
   "source": [
    "fig, ax = plt.subplots(1,1, figsize=(5,5))\n",
    "\n",
    "ax.plot(test_labels.flatten(), prediction.flatten(), '.', color='#821122')\n",
    "ax.plot(np.arange(-128,128), np.arange(-128,128), '--', color='gray')\n",
    "ax.set_xlabel(\"True energy\")\n",
    "ax.set_ylabel(\"Predicted energy\")\n",
    "ax.grid(alpha=0.3)"
   ]
  },
  {
   "cell_type": "markdown",
   "metadata": {
    "collapsed": false
   },
   "source": [
    "It works!  But let's quantify how well it works by computing the median absolute error:"
   ]
  },
  {
   "cell_type": "code",
   "execution_count": 29,
   "metadata": {
    "collapsed": false
   },
   "outputs": [
    {
     "name": "stdout",
     "output_type": "stream",
     "text": [
      "{'f1c1': 0.5492186546325684}\n"
     ]
    }
   ],
   "source": [
    "error = {}\n",
    "error[\"f1c1\"] = np.median(np.abs(test_labels - prediction))\n",
    "print error"
   ]
  },
  {
   "cell_type": "code",
   "execution_count": null,
   "metadata": {
    "collapsed": false
   },
   "outputs": [],
   "source": []
  },
  {
   "cell_type": "code",
   "execution_count": null,
   "metadata": {
    "collapsed": true
   },
   "outputs": [],
   "source": []
  }
 ],
 "metadata": {
  "anaconda-cloud": {},
  "kernelspec": {
   "display_name": "Python [default]",
   "language": "python",
   "name": "python2"
  },
  "language_info": {
   "codemirror_mode": {
    "name": "ipython",
    "version": 2
   },
   "file_extension": ".py",
   "mimetype": "text/x-python",
   "name": "python",
   "nbconvert_exporter": "python",
   "pygments_lexer": "ipython2",
   "version": "2.7.12"
  }
 },
 "nbformat": 4,
 "nbformat_minor": 2
}
